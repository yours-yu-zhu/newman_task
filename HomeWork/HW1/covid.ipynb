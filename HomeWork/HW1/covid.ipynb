{
 "cells": [
  {
   "cell_type": "code",
   "execution_count": 1,
   "id": "00969139-b332-4875-922f-700435f75c90",
   "metadata": {},
   "outputs": [],
   "source": [
    "#数值运算包\n",
    "import math\n",
    "import numpy as np\n",
    "\n",
    "#文件读写包\n",
    "import pandas as pd\n",
    "import os\n",
    "import csv\n",
    "\n",
    "#导入进度条功能包\n",
    "from tqdm import tqdm\n",
    "\n",
    "#导入pytorch包及其所需的模块\n",
    "import torch\n",
    "import torch.nn as nn \n",
    "from torch.utils.data import Dataset,DataLoader, random_split\n",
    "\n",
    "#导入学习曲线绘制模块\n",
    "from torch.utils.tensorboard import SummaryWriter"
   ]
  },
  {
   "cell_type": "code",
   "execution_count": 2,
   "id": "470f4ad4",
   "metadata": {},
   "outputs": [],
   "source": [
    "#same_seed() 函数为神经网络的训练提供一致的随机种子，确保训练结果的可复现性。它的输入 seed 是一个整数，我们可以在 2.7. 中的config里设置它。\n",
    "#train_valid_split() 函数可以根据我们给定的验证集比例（valid_ratio）将原始的训练集随机划分为训练集和验证集，以供训练过程使用。它需要 3 个输入参数：\n",
    "# 未分割的训练集（data_set），验证集比例（valid_ratio）和随机种子数（seed）。加入人工设置的随机种子数的目的也是为了使得分割方式在每一次训练的尝试中保持一致，使模型的训练结果有更强的可比性。\n",
    "#predict() 函数即是模型测试所用函数。我们需要对其输入测试集（test_loader），训练好的模型（model）和跑模型的设备（device）。其输出值为我们训练好的模型对测试集的预测结果。"
   ]
  },
  {
   "cell_type": "code",
   "execution_count": 3,
   "id": "4e716114-b7dc-4056-b041-1122729732fc",
   "metadata": {},
   "outputs": [],
   "source": [
    "#定义一些工具：\n",
    "def same_seed(seed):\n",
    "    # 使用确定性算法(deterministic algorithms)，以确保相同的input，parameters和环境可以输出相同的output，使得训练结果可以复现。\n",
    "    torch.backends.cudnn.deterministics = True\n",
    "    # 由于使用GPU进行训练时，cuDNN会自动选择最高效的算法，导致训练结果难以复现，因此需要关闭benchmark模式。\n",
    "    torch.backends.cudnn.benchmark = False\n",
    "    np.random.seed(seed) # 根据输入的seed设置固定的numpy seed。\n",
    "    if torch.cuda.is_available():  # 根据输入的seed值在torch中设置固定的起始参数。\n",
    "        torch.cuda.manual_seed_all(seed)\n",
    "\n",
    "def train_valid_spilt(data_set, vaild_ratio, seed):\n",
    "    vaild_set_size = int(vaild_ratio * len(data_set))\n",
    "    train_set_size = len(data_set) - vaild_set_size\n",
    "    train_set,vaild_set = random_split(data_set,\n",
    "                                        [vaild_set_size,train_set_size],\n",
    "                                        generator=torch.Generator().manual_seed(seed))\n",
    "    return np.array(train_set),np.array(vaild_set)\n",
    "\n",
    "def predict(test_loader, model, device):\n",
    "    model.eval()\n",
    "    preds = []\n",
    "    for x in tqdm(test_loader): # tqmd可作为for循环迭代器使用，同时也提供进度条服务。\n",
    "        x = x.to(device)\n",
    "        with torch.no_grad():\n",
    "            pred = model(x)\n",
    "            preds.append(pred.detach().cpu())# detach()函数从原tensor中剥离出一个新的相等tensor，并将新tensor放入cpu。\n",
    "    preds = torch.cat(preds,dim=0).numpy() # 将preds列表拼接成tensor，再转化为np array。\n",
    "    return preds\n"
   ]
  },
  {
   "cell_type": "code",
   "execution_count": 4,
   "id": "55c708f9-cec4-42d2-aa0c-18084f236fed",
   "metadata": {},
   "outputs": [],
   "source": [
    "#编写Dataset类\n",
    "class COVID19Dataset(Dataset):\n",
    "    def __init__(self,x,y=None):\n",
    "        if y is None:\n",
    "            self.y = y\n",
    "        else:\n",
    "            self.y = torch.FloatTensor(y)\n",
    "        self.x =  torch.FloatTensor(x)\n",
    "\n",
    "    def __getitem__(self,idx):\n",
    "        if self.y is None:\n",
    "            return self.x[idx]\n",
    "        else:\n",
    "            return self.x[idx],self.y[idx]\n",
    "    \n",
    "    def __len__(self):\n",
    "        return len(self.x)"
   ]
  },
  {
   "cell_type": "code",
   "execution_count": 5,
   "id": "0ee4860a",
   "metadata": {},
   "outputs": [],
   "source": [
    "class MyModel(nn.Module):\n",
    "    def __init__(self,input_dim):\n",
    "        super(MyModel,self).__init__()\n",
    "        self.layers = nn.Sequential(\n",
    "            nn.Linear(Linear(input_dim, 64)),\n",
    "            nn.ReLU(),\n",
    "            nn.Linear(Linear(64, 32)),\n",
    "            nn.ReLU(),\n",
    "            nn.Linear(Linear(32, 16)),\n",
    "            nn.ReLU(),\n",
    "            nn.Linear(Linear(16, 8)),\n",
    "            nn.ReLU(),\n",
    "            nn.Linear(Linear(8, 1)),\n",
    "            nn.ReLU(),\n",
    "        )\n",
    "    \n",
    "    def forward(self, x):\n",
    "        x = self.layers(x)\n",
    "        x = x.squeeze(1)\n",
    "        return x"
   ]
  }
 ],
 "metadata": {
  "kernelspec": {
   "display_name": "jptest",
   "language": "python",
   "name": "jptest"
  },
  "language_info": {
   "codemirror_mode": {
    "name": "ipython",
    "version": 3
   },
   "file_extension": ".py",
   "mimetype": "text/x-python",
   "name": "python",
   "nbconvert_exporter": "python",
   "pygments_lexer": "ipython3",
   "version": "3.8.18"
  }
 },
 "nbformat": 4,
 "nbformat_minor": 5
}
